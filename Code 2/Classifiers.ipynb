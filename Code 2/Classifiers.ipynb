{
 "cells": [
  {
   "cell_type": "markdown",
   "id": "9fa925ee",
   "metadata": {},
   "source": [
    "# Machine Learning for Finance -  Homework 2"
   ]
  },
  {
   "cell_type": "markdown",
   "id": "2b26153f",
   "metadata": {},
   "source": [
    "Simone Robba"
   ]
  },
  {
   "cell_type": "markdown",
   "id": "477ca29a",
   "metadata": {},
   "source": [
    "# Overview"
   ]
  },
  {
   "cell_type": "markdown",
   "id": "8daa1141",
   "metadata": {},
   "source": [
    "In this work, the dataser regarding the credit provision is used again. \n",
    "The goal is not only implement a set of different models to predict the default of a potential borrower, but to select the best Hyperparameter among a set provided.\n",
    "\n",
    "Three models are tested: \n",
    "- Logistic Regression (LR)\n",
    "- Support Vector Machine (SVM), \n",
    "- Ada Boost with Decision Tree (TREE) as base classifier\n",
    "\n",
    "Each classifier is incorporated in a pipeline that first standardize the features, then extract them in a set of Principal Components (PC). \n",
    "The pipeline then undertake a Grid Search analysis to evaluate the best hyperparametes. For each model, one or two hyperparameters are set as variable, and a set of values is evaluated for each of them.\n",
    "The performance of each model is estimated through accuracy score with a K-fold cross-validation technique.\n",
    "Finally, the performance of the models, with the relative selected hyperparameters, is calculated on the test dataset.\n",
    "\n",
    "Logistic Regression\n",
    "Hyperparameters evaluated:\n",
    "- Penalty (l1, l2)\n",
    "- C: (0.001, 1, 10, 100.0)\n",
    "- Test accuracy: Test accuracy: 0.985 (C: 0.001 Penalty: l1)\n",
    "\n",
    "Support Vector Machine\n",
    "Hyperparameters evaluated:\n",
    "- Kernel: linear\n",
    "- C: (0.001, 100)\n",
    "- Test accuracy: 0.985 (C: 0.001)\n",
    "\n",
    "Ada Boost\n",
    "- estim_range:(10, 100, 500)\n",
    "- max_depth: (1, 2, 3)\n",
    "- Test accuracy: 0.985 (estimators: 10 max_depth: 1)\n",
    "   "
   ]
  },
  {
   "cell_type": "markdown",
   "id": "4ff0f719",
   "metadata": {},
   "source": [
    "# Disclaimer"
   ]
  },
  {
   "cell_type": "markdown",
   "id": "083f2bb7",
   "metadata": {},
   "source": [
    "An analysis of the variance of the original training dataset revealed that the optimal number of PC to mantain during the PCA transformation were 6/7, in order to keep information regarding the 75/80% of the variance of the feature matrix.\n",
    "\n",
    "In the following code the first three models (LR, SVC, Tree) are inserted in a pipeline that standardize and extract the features, then run the classifier. Subsequently, the next tree models also undertake a grid search and a 5-fold cross evaluation. This makes the calculation of the results much more computationally heavy, and it resulted impossible to finalize it on my computer (I let the code run overnight and after 8 hours the result was not ready yet).\n",
    "\n",
    "Therefore I made a modification on the original dataset, mantaining only the first 5,000 observations in both the training and test dataset. Also, because of the same constraints, I extracted the features in 3 PC only."
   ]
  },
  {
   "cell_type": "code",
   "execution_count": 7,
   "id": "d2e0fe3a",
   "metadata": {},
   "outputs": [],
   "source": [
    "import numpy as np\n",
    "import pandas as pd\n",
    "import matplotlib.pyplot as plt\n",
    "from sklearn.preprocessing import StandardScaler\n",
    "#from sklearn.impute import SimpleImputer\n",
    "from sklearn.linear_model import LogisticRegression\n",
    "from sklearn.svm import SVC\n",
    "#from matplotlib.colors import ListedColormap\n",
    "from sklearn.tree import DecisionTreeClassifier\n",
    "import matplotlib\n",
    "from distutils.version import LooseVersion\n",
    "from sklearn.decomposition import PCA\n",
    "from sklearn.pipeline import make_pipeline\n",
    "from sklearn.model_selection import StratifiedKFold\n",
    "from sklearn.model_selection import cross_val_score\n",
    "from sklearn.model_selection import GridSearchCV\n",
    "from sklearn.model_selection import validation_curve\n",
    "from sklearn.ensemble import AdaBoostClassifier"
   ]
  },
  {
   "cell_type": "markdown",
   "id": "90381ba6",
   "metadata": {},
   "source": [
    "In the following code the train feature matrix, train y matrix, test feature matrix and test y matrix are extracted from the related csv files. Both the train and test feature matrix contain NaN values, which are substituted with the mean value of the whole feature vector. After that, the feature matrix are standardized.\n",
    "\n",
    "The relevant numpy array produced are the following:\n",
    "\n",
    "- X_train_std: Feature matrix of the train dataset, standardized.\n",
    "- X_test_std: Feature matrix of the test dataset, standardized.\n",
    "- y_train: Output matrix of the train dataset\n",
    "- y_test_int: Output matrix of the test dataset, transformed in integers 0/1 on the base of the related probability values.\n",
    "\n",
    "While the standardized matrices will be used for an initial discussion regarding the PCA freature extraction, the pipelines that will be implemented later will take care of the standardization without the need to imput standardized matrices. In that case, the feature matrices used will be:\n",
    "- X_train\n",
    "- X_test"
   ]
  },
  {
   "cell_type": "code",
   "execution_count": 8,
   "id": "7fc6400c",
   "metadata": {},
   "outputs": [],
   "source": [
    "df = pd.read_csv('Small Dataset - cs-training.csv', header= 0, index_col=0, encoding='utf-8')\n",
    "Xy0_test = pd.read_csv('Small Dataset - cs-test.csv', header= 0, index_col=0, encoding='utf-8')\n",
    "y0_test = pd.read_csv('Small Dataset - sampleEntry.csv', header= 0, index_col=0, encoding='utf-8')\n",
    "y_test = y0_test.iloc[:, 0].values    #y_test\n",
    "y_test_int = np.round(y_test)         \n",
    "y_test_int = y_test_int.astype(int) #y_test_int\n",
    "df2= df.fillna(df.mean())\n",
    "Xy_test = Xy0_test.fillna(df.mean())\n",
    "X_train, y_train = df2.iloc[:, 1:].values, df2.iloc[:, 0].values     #X_train   y_train\n",
    "X_test=Xy_test.iloc[:, 1:].values     #X_test\n",
    "sc = StandardScaler()\n",
    "X_train_std = sc.fit_transform(X_train)   #X_train_std\n",
    "X_test_std = sc.transform(X_test)         #X_test_std"
   ]
  },
  {
   "cell_type": "code",
   "execution_count": 9,
   "id": "8039bb5d",
   "metadata": {},
   "outputs": [
    {
     "name": "stdout",
     "output_type": "stream",
     "text": [
      "Small Dataset - cs-training.csv shape: (5000, 11)\n",
      "Small Dataset - cs-test.csv shape: (5000, 11)\n",
      "Small Dataset - sampleEntry.csv shape: (5000, 1)\n"
     ]
    }
   ],
   "source": [
    "print(\"Small Dataset - cs-training.csv shape:\", df.shape)\n",
    "print(\"Small Dataset - cs-test.csv shape:\", Xy0_test.shape)\n",
    "print(\"Small Dataset - sampleEntry.csv shape:\", y0_test.shape)"
   ]
  },
  {
   "cell_type": "markdown",
   "id": "7c00f14c",
   "metadata": {},
   "source": [
    "# PCA: Selecting the number of components"
   ]
  },
  {
   "cell_type": "markdown",
   "id": "ae6bcd42",
   "metadata": {},
   "source": [
    "The standardized train feature matrix is used to implement a Principal Component Analysis, without contrains regarding the number of components, that compute the variance explained by each component.\n",
    "\n",
    "Subsequently, a chart is plotted to show the cumulative variance explined by the components, sorted from the most significant."
   ]
  },
  {
   "cell_type": "code",
   "execution_count": 10,
   "id": "dd4d8423",
   "metadata": {},
   "outputs": [
    {
     "data": {
      "text/plain": [
       "array([0.29710567, 0.16293871, 0.11992219, 0.10133304, 0.0998272 ,\n",
       "       0.08625448, 0.0747893 , 0.05339751, 0.00339065, 0.00104124])"
      ]
     },
     "execution_count": 10,
     "metadata": {},
     "output_type": "execute_result"
    }
   ],
   "source": [
    "pca = PCA(n_components=None)\n",
    "X_train_pca = pca.fit_transform(X_train_std)\n",
    "eigen_vals = pca.explained_variance_ratio_\n",
    "eigen_vals"
   ]
  },
  {
   "cell_type": "code",
   "execution_count": 11,
   "id": "3ce79e4f",
   "metadata": {},
   "outputs": [
    {
     "data": {
      "image/png": "[encoded data removed]",
      "text/plain": [
       "<Figure size 640x480 with 1 Axes>"
      ]
     },
     "metadata": {},
     "output_type": "display_data"
    }
   ],
   "source": [
    "tot = sum(eigen_vals)\n",
    "var_exp = [(i / tot) for i in sorted(eigen_vals, reverse=True)]\n",
    "cum_var_exp = np.cumsum(var_exp)\n",
    "plt.bar(range(1, 11), var_exp, alpha=0.5, align='center',\n",
    "        label='Individual explained variance')\n",
    "plt.step(range(1, 11), cum_var_exp, where='mid',\n",
    "         label='Cumulative explained variance')\n",
    "plt.ylabel('Explained variance ratio')\n",
    "plt.xlabel('Principal component index')\n",
    "plt.legend(loc='best')\n",
    "plt.tight_layout()\n",
    "# plt.savefig('images/05_02.png', dpi=300)\n",
    "plt.show()"
   ]
  },
  {
   "cell_type": "code",
   "execution_count": 12,
   "id": "c00ffca0",
   "metadata": {},
   "outputs": [
    {
     "name": "stdout",
     "output_type": "stream",
     "text": [
      "Cumulative variance explained: [0.29710567 0.46004438 0.57996657 0.68129961 0.78112682 0.86738129\n",
      " 0.9421706  0.99556811 0.99895876 1.        ]\n"
     ]
    }
   ],
   "source": [
    "print(\"Cumulative variance explained:\", cum_var_exp)"
   ]
  },
  {
   "cell_type": "markdown",
   "id": "0757df4b",
   "metadata": {},
   "source": [
    "According with the results, it would be reasonable to select the first 5/6 PC, in order to mantain information capable of explaining about 75/85% of the variance in the feature matrix. \n",
    "Hovewer, due to computational constraints, I'll just select the first 3."
   ]
  },
  {
   "cell_type": "markdown",
   "id": "54af6cc4",
   "metadata": {},
   "source": [
    "# Models with default hyperparameters"
   ]
  },
  {
   "cell_type": "markdown",
   "id": "207e4479",
   "metadata": {},
   "source": [
    "A test is run to track the performance on the test dataset of LR, SVM, and ADA, with default hyperparameters."
   ]
  },
  {
   "cell_type": "code",
   "execution_count": 13,
   "id": "b197fb9c",
   "metadata": {},
   "outputs": [
    {
     "name": "stdout",
     "output_type": "stream",
     "text": [
      "Support Vector Machine\n",
      "Test Accuracy: 0.985\n"
     ]
    }
   ],
   "source": [
    "pipe_svc_test = make_pipeline(StandardScaler(),\n",
    "                         PCA(n_components=3),\n",
    "                         SVC(random_state=1, kernel = 'linear'))\n",
    "\n",
    "pipe_svc_test.fit(X_train, y_train)\n",
    "pipe_svc_test_score = pipe_svc_test.score(X_test, y_test_int)\n",
    "print(\"Support Vector Machine\")\n",
    "print('Test Accuracy: %.3f' % pipe_svc_test_score)\n",
    "\n",
    "Default_Hyperparametes = []\n",
    "Default_Hyperparametes.append(pipe_svc_test_score)"
   ]
  },
  {
   "cell_type": "code",
   "execution_count": 14,
   "id": "84cbdfee",
   "metadata": {},
   "outputs": [
    {
     "name": "stdout",
     "output_type": "stream",
     "text": [
      "Logistic Regression\n",
      "Test Accuracy: 0.983\n"
     ]
    }
   ],
   "source": [
    "pipe_lr_test = make_pipeline(StandardScaler(),\n",
    "                        PCA(n_components=3),\n",
    "                        LogisticRegression(random_state=1, solver='liblinear'))\n",
    "\n",
    "pipe_lr_test.fit(X_train, y_train)\n",
    "pipe_lr_test_score = pipe_lr_test.score(X_test, y_test_int)\n",
    "print(\"Logistic Regression\")\n",
    "print('Test Accuracy: %.3f' % pipe_lr_test_score)\n",
    "\n",
    "Default_Hyperparametes.append(pipe_lr_test_score)"
   ]
  },
  {
   "cell_type": "code",
   "execution_count": 15,
   "id": "eb5071d3",
   "metadata": {},
   "outputs": [
    {
     "name": "stdout",
     "output_type": "stream",
     "text": [
      "Ada Boost\n",
      "Test Accuracy: 0.936\n"
     ]
    }
   ],
   "source": [
    "tree = DecisionTreeClassifier(random_state=1)\n",
    "\n",
    "pipe_ada_test = make_pipeline(StandardScaler(),\n",
    "                        PCA(n_components=3),\n",
    "                        AdaBoostClassifier(estimator=tree, \n",
    "                         learning_rate=0.1,\n",
    "                         random_state=1))\n",
    "\n",
    "pipe_ada_test.fit(X_train, y_train)\n",
    "pipe_ada_test_score = pipe_ada_test.score(X_test, y_test_int)\n",
    "print(\"Ada Boost\")\n",
    "print('Test Accuracy: %.3f' % pipe_ada_test_score)\n",
    "\n",
    "Default_Hyperparametes.append(pipe_ada_test_score)"
   ]
  },
  {
   "cell_type": "markdown",
   "id": "b03276da",
   "metadata": {},
   "source": [
    "# SVM - Hyperparameter Tuning"
   ]
  },
  {
   "cell_type": "markdown",
   "id": "d9276cde",
   "metadata": {},
   "source": [
    "With the following code a pipeline is created that standardize the features, and extract them in 3 PC. \n",
    "\n",
    "A Grid search analysis is run, which, thrugh a 5 Fold Cross validation, select the best value for C among the set (0.001, 100.0)\n",
    "\n",
    "Best value C:0.001\n",
    "\n",
    "Mean score on the Validation sets: 0.9389999999999998"
   ]
  },
  {
   "cell_type": "code",
   "execution_count": 16,
   "id": "40c53018",
   "metadata": {},
   "outputs": [
    {
     "name": "stdout",
     "output_type": "stream",
     "text": [
      "0.9389999999999998\n",
      "{'svc__C': 0.001, 'svc__kernel': 'linear'}\n"
     ]
    }
   ],
   "source": [
    "pipe_svc = make_pipeline(StandardScaler(),\n",
    "                         PCA(n_components=3),\n",
    "                         SVC(random_state=1))\n",
    "\n",
    "param_range = [0.001, 100.0]\n",
    "\n",
    "param_grid = [{'svc__C': param_range, \n",
    "               'svc__kernel': ['linear']}]\n",
    "\n",
    "gs_svc = GridSearchCV(estimator=pipe_svc, \n",
    "                  param_grid=param_grid, \n",
    "                  scoring='accuracy', \n",
    "                  refit=True,\n",
    "                  cv=5,\n",
    "                  n_jobs=-1)\n",
    "gs_svc = gs_svc.fit(X_train, y_train)\n",
    "print(gs_svc.best_score_)\n",
    "print(gs_svc.best_params_)"
   ]
  },
  {
   "cell_type": "markdown",
   "id": "6e08a406",
   "metadata": {},
   "source": [
    "A chart il splotted to show the change in performance when changing the C value, fixing the kernel as \"linear\"."
   ]
  },
  {
   "cell_type": "code",
   "execution_count": 17,
   "id": "1ca16a3c",
   "metadata": {},
   "outputs": [
    {
     "data": {
      "image/png": "[encoded data removed]",
      "text/plain": [
       "<Figure size 640x480 with 1 Axes>"
      ]
     },
     "metadata": {},
     "output_type": "display_data"
    }
   ],
   "source": [
    "pipe_svc = make_pipeline(StandardScaler(),\n",
    "                         PCA(n_components=3),\n",
    "                         SVC(random_state=1, kernel=\"linear\"))\n",
    "\n",
    "param_range_svc = [0.001, 100.0]\n",
    "train_scores, test_scores = validation_curve(\n",
    "                estimator=pipe_svc, \n",
    "                X=X_train, \n",
    "                y=y_train, \n",
    "                param_name='svc__C', \n",
    "                param_range=param_range_svc,\n",
    "                cv=5)\n",
    "\n",
    "train_mean = np.mean(train_scores, axis=1)\n",
    "train_std = np.std(train_scores, axis=1)\n",
    "test_mean = np.mean(test_scores, axis=1)\n",
    "test_std = np.std(test_scores, axis=1)\n",
    "\n",
    "plt.plot(param_range_svc, train_mean, \n",
    "         color='blue', marker='o', \n",
    "         markersize=5, label='Training accuracy')\n",
    "\n",
    "plt.fill_between(param_range_svc, train_mean + train_std,\n",
    "                 train_mean - train_std, alpha=0.15,\n",
    "                 color='blue')\n",
    "\n",
    "plt.plot(param_range_svc, test_mean, \n",
    "         color='green', linestyle='--', \n",
    "         marker='s', markersize=5, \n",
    "         label='Validation accuracy')\n",
    "\n",
    "plt.fill_between(param_range_svc, \n",
    "                 test_mean + test_std,\n",
    "                 test_mean - test_std, \n",
    "                 alpha=0.15, color='green')\n",
    "\n",
    "plt.grid()\n",
    "plt.xscale('log')\n",
    "plt.legend(loc='lower right')\n",
    "plt.xlabel('Parameter C')\n",
    "plt.ylabel('Accuracy')\n",
    "plt.ylim([0.8, 1.0])\n",
    "plt.tight_layout()\n",
    "# plt.savefig('images/06_06.png', dpi=300)\n",
    "plt.show()"
   ]
  },
  {
   "cell_type": "code",
   "execution_count": 18,
   "id": "2bbe697b",
   "metadata": {},
   "outputs": [
    {
     "name": "stdout",
     "output_type": "stream",
     "text": [
      "Validation set means\n",
      "C= 0.001    Accuracy: 0.9389999999999998\n",
      "C= 100.0    Accuracy: 0.9389999999999998\n"
     ]
    }
   ],
   "source": [
    "print(\"Validation set means\")\n",
    "print(\"C=\", param_range_svc[0], \"   Accuracy:\", test_mean[0])\n",
    "print(\"C=\", param_range_svc[1], \"   Accuracy:\", test_mean[1])"
   ]
  },
  {
   "cell_type": "markdown",
   "id": "698da8ef",
   "metadata": {},
   "source": [
    "The SVC Model, with \n",
    "- C: 0.001 \n",
    "- Kernel: linear \n",
    "\n",
    "has an Accuracy Score on the Test dataset of 0.985"
   ]
  },
  {
   "cell_type": "code",
   "execution_count": 19,
   "id": "36ca6e45",
   "metadata": {},
   "outputs": [
    {
     "name": "stdout",
     "output_type": "stream",
     "text": [
      "Best hyperparameters: {'svc__C': 0.001, 'svc__kernel': 'linear'}\n",
      "Test accuracy: 0.985\n"
     ]
    }
   ],
   "source": [
    "clf_svc = gs_svc.best_estimator_\n",
    "clf_svc_score = clf_svc.score(X_test, y_test_int)\n",
    "\n",
    "print(\"Best hyperparameters:\", gs_svc.best_params_)\n",
    "print('Test accuracy: %.3f' % clf_svc_score)\n",
    "\n",
    "Selected_Hyperparametes = []\n",
    "Selected_Hyperparametes.append(clf_svc_score)"
   ]
  },
  {
   "cell_type": "markdown",
   "id": "1da5dcf2",
   "metadata": {},
   "source": [
    "# Logistic Regression"
   ]
  },
  {
   "cell_type": "markdown",
   "id": "4a36f0f6",
   "metadata": {},
   "source": [
    "For the Logistic Regression, the pipeline newly standardize the features, and extract them in 3 PC. \n",
    "\n",
    "A Grid search analysis is run, which, thrugh a 5 Fold Cross validation, select the best value for C among the set (0.001, 1, 10, 100.0) and the best penalty type between l1 and l2\n",
    "\n",
    "Best penalty: l1\n",
    "\n",
    "Best value for C: 0.001\n",
    "\n",
    "Mean score on the Validation sets: 0.9389999999999998"
   ]
  },
  {
   "cell_type": "code",
   "execution_count": 20,
   "id": "ad98a103",
   "metadata": {},
   "outputs": [
    {
     "name": "stdout",
     "output_type": "stream",
     "text": [
      "0.9389999999999998\n",
      "{'logisticregression__C': 0.001, 'logisticregression__penalty': 'l1'}\n"
     ]
    }
   ],
   "source": [
    "pipe_lr = make_pipeline(StandardScaler(),\n",
    "                        PCA(n_components=3),\n",
    "                        LogisticRegression(random_state=1, solver='liblinear'))\n",
    "\n",
    "param_range_lr = [0.001, 1, 10, 100.0]\n",
    "\n",
    "param_grid_lr = [{'logisticregression__C': param_range_lr, \n",
    "               'logisticregression__penalty': ['l1', \"l2\"]}]\n",
    "\n",
    "gs_lr = GridSearchCV(estimator=pipe_lr, \n",
    "                  param_grid=param_grid_lr, \n",
    "                  scoring='accuracy', \n",
    "                  refit=True,\n",
    "                  cv=5,\n",
    "                  n_jobs=-1)\n",
    "gs_lr = gs_lr.fit(X_train, y_train)\n",
    "\n",
    "print(gs_lr.best_score_)\n",
    "print(gs_lr.best_params_)"
   ]
  },
  {
   "cell_type": "markdown",
   "id": "9ff8f883",
   "metadata": {},
   "source": [
    "A chart il splotted to show the change in performance when changing the C value, fixing the penalty as \"l1\"."
   ]
  },
  {
   "cell_type": "code",
   "execution_count": 21,
   "id": "abd4aece",
   "metadata": {},
   "outputs": [
    {
     "data": {
      "image/png": "[encoded data removed]",
      "text/plain": [
       "<Figure size 640x480 with 1 Axes>"
      ]
     },
     "metadata": {},
     "output_type": "display_data"
    }
   ],
   "source": [
    "pipe_lr = make_pipeline(StandardScaler(),\n",
    "                        PCA(n_components=3),\n",
    "                        LogisticRegression(penalty = \"l1\", random_state=1, solver='liblinear'))\n",
    "\n",
    "param_range_lr = [0.001, 1, 10, 100.0]\n",
    "train_scores, test_scores = validation_curve(\n",
    "                estimator=pipe_lr, \n",
    "                X=X_train, \n",
    "                y=y_train, \n",
    "                param_name='logisticregression__C', \n",
    "                param_range=param_range_lr,\n",
    "                cv=5)\n",
    "\n",
    "train_mean = np.mean(train_scores, axis=1)\n",
    "train_std = np.std(train_scores, axis=1)\n",
    "test_mean = np.mean(test_scores, axis=1)\n",
    "test_std = np.std(test_scores, axis=1)\n",
    "\n",
    "plt.plot(param_range_lr, train_mean, \n",
    "         color='blue', marker='o', \n",
    "         markersize=5, label='Training accuracy')\n",
    "\n",
    "plt.fill_between(param_range_lr, train_mean + train_std,\n",
    "                 train_mean - train_std, alpha=0.15,\n",
    "                 color='blue')\n",
    "\n",
    "plt.plot(param_range_lr, test_mean, \n",
    "         color='green', linestyle='--', \n",
    "         marker='s', markersize=5, \n",
    "         label='Validation accuracy')\n",
    "\n",
    "plt.fill_between(param_range_lr, \n",
    "                 test_mean + test_std,\n",
    "                 test_mean - test_std, \n",
    "                 alpha=0.15, color='green')\n",
    "\n",
    "plt.grid()\n",
    "plt.xscale('log')\n",
    "plt.legend(loc='lower right')\n",
    "plt.xlabel('Parameter C')\n",
    "plt.ylabel('Accuracy')\n",
    "plt.ylim([0.8, 1.0])\n",
    "plt.tight_layout()\n",
    "# plt.savefig('images/06_06.png', dpi=300)\n",
    "plt.show()"
   ]
  },
  {
   "cell_type": "code",
   "execution_count": 22,
   "id": "55102694",
   "metadata": {},
   "outputs": [
    {
     "name": "stdout",
     "output_type": "stream",
     "text": [
      "Validation set means\n",
      "C= 0.001    Accuracy: 0.9389999999999998\n",
      "C= 1        Accuracy: 0.9380000000000001\n",
      "C= 10       Accuracy: 0.9380000000000001\n",
      "C= 100.0    Accuracy: 0.9380000000000001\n"
     ]
    }
   ],
   "source": [
    "print(\"Validation set means\")\n",
    "print(\"C=\", param_range_lr[0], \"   Accuracy:\", test_mean[0])\n",
    "print(\"C=\", param_range_lr[1], \"       Accuracy:\", test_mean[1])\n",
    "print(\"C=\", param_range_lr[2], \"      Accuracy:\", test_mean[2])\n",
    "print(\"C=\", param_range_lr[3], \"   Accuracy:\", test_mean[3])"
   ]
  },
  {
   "cell_type": "markdown",
   "id": "f61ba2f5",
   "metadata": {},
   "source": [
    "The LR Model, with \n",
    "- C: 0.001 \n",
    "- Penalty: l1\n",
    "\n",
    "has an Accuracy Score on the Test dataset of 0.985"
   ]
  },
  {
   "cell_type": "code",
   "execution_count": 23,
   "id": "904abe60",
   "metadata": {},
   "outputs": [
    {
     "name": "stdout",
     "output_type": "stream",
     "text": [
      "Best hyperparameters: {'logisticregression__C': 0.001, 'logisticregression__penalty': 'l1'}\n",
      "Test accuracy: 0.985\n"
     ]
    }
   ],
   "source": [
    "clf_lr = gs_lr.best_estimator_\n",
    "clf_lr_score = clf_lr.score(X_test, y_test_int)\n",
    "\n",
    "print(\"Best hyperparameters:\", gs_lr.best_params_)\n",
    "print('Test accuracy: %.3f' % clf_lr_score)\n",
    "\n",
    "\n",
    "Selected_Hyperparametes.append(clf_lr_score)"
   ]
  },
  {
   "cell_type": "markdown",
   "id": "50c4c801",
   "metadata": {},
   "source": [
    "# Random Forest"
   ]
  },
  {
   "cell_type": "markdown",
   "id": "4cd858e0",
   "metadata": {},
   "source": [
    "For the Ada Boost, the pipeline standardize the features, and extract them in 3 PC. \n",
    "\n",
    "A Grid search analysis is run, which, thrugh a 5 Fold Cross validation, select the best value for \"n_estimators\" among the set (10, 100, 500) and the best \"max_depth\" value for the base Tree among (1, 2, 3)\n",
    "\n",
    "Best n_estimators: 10\n",
    "\n",
    "Best max_depth: 1\n",
    "\n",
    "Mean score on the Validation sets: 0.9389999999999998"
   ]
  },
  {
   "cell_type": "code",
   "execution_count": 24,
   "id": "cd707091",
   "metadata": {},
   "outputs": [],
   "source": [
    "tree_1 = DecisionTreeClassifier(criterion='gini', \n",
    "                              max_depth=1,\n",
    "                              random_state=1)\n",
    "\n",
    "tree_2 = DecisionTreeClassifier(criterion='gini', \n",
    "                              max_depth=2,\n",
    "                              random_state=1)\n",
    "\n",
    "tree_3 = DecisionTreeClassifier(criterion='gini', \n",
    "                              max_depth=3,\n",
    "                              random_state=1)"
   ]
  },
  {
   "cell_type": "code",
   "execution_count": 25,
   "id": "404cb0df",
   "metadata": {},
   "outputs": [
    {
     "name": "stdout",
     "output_type": "stream",
     "text": [
      "0.9389999999999998\n",
      "{'adaboostclassifier__estimator': DecisionTreeClassifier(max_depth=1, random_state=1), 'adaboostclassifier__n_estimators': 10}\n"
     ]
    }
   ],
   "source": [
    "pipe_ada = make_pipeline(StandardScaler(),\n",
    "                        PCA(n_components=3),\n",
    "                        AdaBoostClassifier(estimator=tree, \n",
    "                         learning_rate=0.1,\n",
    "                         random_state=1))\n",
    "\n",
    "tree_range = [tree_1, tree_2, tree_3]\n",
    "estim_range = [10, 100, 500]\n",
    "\n",
    "param_grid_ada = [{'adaboostclassifier__estimator': tree_range, \n",
    "               'adaboostclassifier__n_estimators': estim_range}]\n",
    "\n",
    "gs_ada = GridSearchCV(estimator=pipe_ada, \n",
    "                  param_grid=param_grid_ada, \n",
    "                  scoring='accuracy', \n",
    "                  refit=True,\n",
    "                  cv=5,\n",
    "                  n_jobs=-1)\n",
    "gs_ada = gs_ada.fit(X_train, y_train)\n",
    "\n",
    "print(gs_ada.best_score_)\n",
    "print(gs_ada.best_params_)"
   ]
  },
  {
   "cell_type": "markdown",
   "id": "36b2ee78",
   "metadata": {},
   "source": [
    "A chart il splotted to show the change in performance when changing the \"n_estimators\" value, fixing the \"max_depth\" as 1."
   ]
  },
  {
   "cell_type": "code",
   "execution_count": 26,
   "id": "bd06d187",
   "metadata": {},
   "outputs": [
    {
     "data": {
      "image/png": "[encoded data removed]",
      "text/plain": [
       "<Figure size 640x480 with 1 Axes>"
      ]
     },
     "metadata": {},
     "output_type": "display_data"
    }
   ],
   "source": [
    "pipe_ada = make_pipeline(StandardScaler(),\n",
    "                        PCA(n_components=3),\n",
    "                        AdaBoostClassifier(estimator=tree_1, \n",
    "                         learning_rate=0.1,\n",
    "                         random_state=1))\n",
    "\n",
    "estim_range = [10, 100, 500]\n",
    "\n",
    "train_scores, test_scores = validation_curve(\n",
    "                estimator= pipe_ada, \n",
    "                X=X_train, \n",
    "                y=y_train, \n",
    "                param_name='adaboostclassifier__n_estimators', \n",
    "                param_range=estim_range,\n",
    "                cv=5)\n",
    "\n",
    "train_mean = np.mean(train_scores, axis=1)\n",
    "train_std = np.std(train_scores, axis=1)\n",
    "test_mean = np.mean(test_scores, axis=1)\n",
    "test_std = np.std(test_scores, axis=1)\n",
    "\n",
    "plt.plot(estim_range, train_mean, \n",
    "         color='blue', marker='o', \n",
    "         markersize=5, label='Training accuracy')\n",
    "\n",
    "plt.fill_between(estim_range, train_mean + train_std,\n",
    "                 train_mean - train_std, alpha=0.15,\n",
    "                 color='blue')\n",
    "\n",
    "plt.plot(estim_range, test_mean, \n",
    "         color='green', linestyle='--', \n",
    "         marker='s', markersize=5, \n",
    "         label='Validation accuracy')\n",
    "\n",
    "plt.fill_between(estim_range, \n",
    "                 test_mean + test_std,\n",
    "                 test_mean - test_std, \n",
    "                 alpha=0.15, color='green')\n",
    "\n",
    "plt.grid()\n",
    "plt.xscale('log')\n",
    "plt.legend(loc='lower right')\n",
    "plt.xlabel('N of Estimators')\n",
    "plt.ylabel('Accuracy')\n",
    "plt.ylim([0.8, 1.0])\n",
    "plt.tight_layout()\n",
    "# plt.savefig('images/06_06.png', dpi=300)\n",
    "plt.show()"
   ]
  },
  {
   "cell_type": "code",
   "execution_count": 27,
   "id": "7c798396",
   "metadata": {},
   "outputs": [
    {
     "name": "stdout",
     "output_type": "stream",
     "text": [
      "Validation set means\n",
      "C= 10    Accuracy: 0.9389999999999998\n",
      "C= 100   Accuracy: 0.9362\n",
      "C= 500   Accuracy: 0.9339999999999999\n"
     ]
    }
   ],
   "source": [
    "print(\"Validation set means\")\n",
    "print(\"C=\", estim_range[0], \"   Accuracy:\", test_mean[0])\n",
    "print(\"C=\", estim_range[1], \"  Accuracy:\", test_mean[1])\n",
    "print(\"C=\", estim_range[2], \"  Accuracy:\", test_mean[2])"
   ]
  },
  {
   "cell_type": "markdown",
   "id": "9bbe89c7",
   "metadata": {},
   "source": [
    "The Ada Boost Model, with \n",
    "- n_estimators: 10\n",
    "- max_depth: 1\n",
    "\n",
    "has an Accuracy Score on the Test dataset of 0.985"
   ]
  },
  {
   "cell_type": "code",
   "execution_count": 28,
   "id": "95d2d260",
   "metadata": {},
   "outputs": [
    {
     "name": "stdout",
     "output_type": "stream",
     "text": [
      "Best hyperparameters: {'adaboostclassifier__estimator': DecisionTreeClassifier(max_depth=1, random_state=1), 'adaboostclassifier__n_estimators': 10}\n",
      "Test accuracy: 0.985\n"
     ]
    }
   ],
   "source": [
    "clf_ada = gs_ada.best_estimator_\n",
    "clf_ada_score = clf_ada.score(X_test, y_test_int)\n",
    "\n",
    "print(\"Best hyperparameters:\", gs_ada.best_params_)\n",
    "print('Test accuracy: %.3f' % clf_ada_score)\n",
    "\n",
    "Selected_Hyperparametes.append(clf_ada_score)"
   ]
  },
  {
   "cell_type": "markdown",
   "id": "9153131f",
   "metadata": {},
   "source": [
    "# Results"
   ]
  },
  {
   "cell_type": "markdown",
   "id": "b999ac42",
   "metadata": {},
   "source": [
    "Results are shown as Accuracy calculated on the Test Dataset.\n",
    "The selection of hyperparameters reveladed to be particularly effective in improving the Ada Boost, and allowed some slight improvements in the LR model."
   ]
  },
  {
   "cell_type": "code",
   "execution_count": 29,
   "id": "bd21fc0e",
   "metadata": {},
   "outputs": [
    {
     "data": {
      "text/html": [
       "<div>\n",
       "<style scoped>\n",
       "    .dataframe tbody tr th:only-of-type {\n",
       "        vertical-align: middle;\n",
       "    }\n",
       "\n",
       "    .dataframe tbody tr th {\n",
       "        vertical-align: top;\n",
       "    }\n",
       "\n",
       "    .dataframe thead th {\n",
       "        text-align: right;\n",
       "    }\n",
       "</style>\n",
       "<table border=\"1\" class=\"dataframe\">\n",
       "  <thead>\n",
       "    <tr style=\"text-align: right;\">\n",
       "      <th></th>\n",
       "      <th>Models</th>\n",
       "      <th>Default Hyperparametes</th>\n",
       "      <th>Selected Hyperparametes</th>\n",
       "    </tr>\n",
       "  </thead>\n",
       "  <tbody>\n",
       "    <tr>\n",
       "      <th>0</th>\n",
       "      <td>SVC</td>\n",
       "      <td>0.9852</td>\n",
       "      <td>0.9852</td>\n",
       "    </tr>\n",
       "    <tr>\n",
       "      <th>1</th>\n",
       "      <td>LR</td>\n",
       "      <td>0.9832</td>\n",
       "      <td>0.9852</td>\n",
       "    </tr>\n",
       "    <tr>\n",
       "      <th>2</th>\n",
       "      <td>ADA BOOST</td>\n",
       "      <td>0.9364</td>\n",
       "      <td>0.9852</td>\n",
       "    </tr>\n",
       "  </tbody>\n",
       "</table>\n",
       "</div>"
      ],
      "text/plain": [
       "      Models  Default Hyperparametes  Selected Hyperparametes\n",
       "0        SVC                  0.9852                   0.9852\n",
       "1         LR                  0.9832                   0.9852\n",
       "2  ADA BOOST                  0.9364                   0.9852"
      ]
     },
     "execution_count": 29,
     "metadata": {},
     "output_type": "execute_result"
    }
   ],
   "source": [
    "index = np.array([\"SVC\", \"LR\", \"ADA BOOST\"])\n",
    "\n",
    "results = pd.DataFrame(zip(index, Default_Hyperparametes, Selected_Hyperparametes), columns=['Models','Default Hyperparametes','Selected Hyperparametes'])\n",
    "results"
   ]
  },
  {
   "cell_type": "code",
   "execution_count": null,
   "id": "a545c668",
   "metadata": {},
   "outputs": [],
   "source": []
  },
  {
   "cell_type": "code",
   "execution_count": null,
   "id": "126a6b7a",
   "metadata": {},
   "outputs": [],
   "source": []
  }
 ],
 "metadata": {
  "kernelspec": {
   "display_name": "Python 3 (ipykernel)",
   "language": "python",
   "name": "python3"
  },
  "language_info": {
   "codemirror_mode": {
    "name": "ipython",
    "version": 3
   },
   "file_extension": ".py",
   "mimetype": "text/x-python",
   "name": "python",
   "nbconvert_exporter": "python",
   "pygments_lexer": "ipython3",
   "version": "3.9.16"
  }
 },
 "nbformat": 4,
 "nbformat_minor": 5
}
